{
 "cells": [
  {
   "cell_type": "markdown",
   "id": "2f62aa97",
   "metadata": {
    "tags": [
     "papermill-error-cell-tag"
    ]
   },
   "source": [
    "<span style=\"color:red; font-family:Helvetica Neue, Helvetica, Arial, sans-serif; font-size:2em;\">An Exception was encountered at '<a href=\"#papermill-error-cell\">In [5]</a>'.</span>"
   ]
  },
  {
   "cell_type": "code",
   "execution_count": 1,
   "id": "be9df9cd-1932-4fe5-b4f0-bc2cbd7061d5",
   "metadata": {
    "editable": true,
    "execution": {
     "iopub.execute_input": "2024-12-13T14:13:47.609331Z",
     "iopub.status.busy": "2024-12-13T14:13:47.608874Z",
     "iopub.status.idle": "2024-12-13T14:13:47.668810Z",
     "shell.execute_reply": "2024-12-13T14:13:47.668250Z"
    },
    "papermill": {
     "duration": 0.068334,
     "end_time": "2024-12-13T14:13:47.671199",
     "exception": false,
     "start_time": "2024-12-13T14:13:47.602865",
     "status": "completed"
    },
    "slideshow": {
     "slide_type": ""
    },
    "tags": []
   },
   "outputs": [],
   "source": [
    "import numpy as np"
   ]
  },
  {
   "cell_type": "code",
   "execution_count": 2,
   "id": "9b0fbca9-55aa-49a4-8c96-8fc22a8205bb",
   "metadata": {
    "editable": true,
    "execution": {
     "iopub.execute_input": "2024-12-13T14:13:47.680822Z",
     "iopub.status.busy": "2024-12-13T14:13:47.680220Z",
     "iopub.status.idle": "2024-12-13T14:13:47.683325Z",
     "shell.execute_reply": "2024-12-13T14:13:47.682773Z"
    },
    "papermill": {
     "duration": 0.008577,
     "end_time": "2024-12-13T14:13:47.684321",
     "exception": false,
     "start_time": "2024-12-13T14:13:47.675744",
     "status": "completed"
    },
    "slideshow": {
     "slide_type": ""
    },
    "tags": [
     "parameters"
    ]
   },
   "outputs": [],
   "source": [
    "# parameters\n",
    "n = 5  # number of random numbers to be drawn\n",
    "random_seed = 123"
   ]
  },
  {
   "cell_type": "code",
   "execution_count": 3,
   "id": "d8c729d7",
   "metadata": {
    "execution": {
     "iopub.execute_input": "2024-12-13T14:13:47.687824Z",
     "iopub.status.busy": "2024-12-13T14:13:47.687446Z",
     "iopub.status.idle": "2024-12-13T14:13:47.690168Z",
     "shell.execute_reply": "2024-12-13T14:13:47.689703Z"
    },
    "papermill": {
     "duration": 0.005353,
     "end_time": "2024-12-13T14:13:47.690894",
     "exception": false,
     "start_time": "2024-12-13T14:13:47.685541",
     "status": "completed"
    },
    "tags": [
     "injected-parameters"
    ]
   },
   "outputs": [],
   "source": [
    "# Parameters\n",
    "random_seed = 456\n",
    "n = -15\n"
   ]
  },
  {
   "cell_type": "code",
   "execution_count": 4,
   "id": "2eb6c9cf-872a-4475-a9c0-212a826410f3",
   "metadata": {
    "editable": true,
    "execution": {
     "iopub.execute_input": "2024-12-13T14:13:47.693997Z",
     "iopub.status.busy": "2024-12-13T14:13:47.693665Z",
     "iopub.status.idle": "2024-12-13T14:13:47.696249Z",
     "shell.execute_reply": "2024-12-13T14:13:47.695811Z"
    },
    "papermill": {
     "duration": 0.004949,
     "end_time": "2024-12-13T14:13:47.697000",
     "exception": false,
     "start_time": "2024-12-13T14:13:47.692051",
     "status": "completed"
    },
    "slideshow": {
     "slide_type": ""
    },
    "tags": []
   },
   "outputs": [],
   "source": [
    "np.random.seed(random_seed)"
   ]
  },
  {
   "cell_type": "markdown",
   "id": "bdb9175f",
   "metadata": {
    "tags": [
     "papermill-error-cell-tag"
    ]
   },
   "source": [
    "<span id=\"papermill-error-cell\" style=\"color:red; font-family:Helvetica Neue, Helvetica, Arial, sans-serif; font-size:2em;\">Execution using papermill encountered an exception here and stopped:</span>"
   ]
  },
  {
   "cell_type": "code",
   "execution_count": 5,
   "id": "25ebe9ad-29e8-4fe4-af75-cfaf91d4b101",
   "metadata": {
    "editable": true,
    "execution": {
     "iopub.execute_input": "2024-12-13T14:13:47.700148Z",
     "iopub.status.busy": "2024-12-13T14:13:47.699834Z",
     "iopub.status.idle": "2024-12-13T14:13:47.876974Z",
     "shell.execute_reply": "2024-12-13T14:13:47.876167Z"
    },
    "papermill": {
     "duration": 0.179571,
     "end_time": "2024-12-13T14:13:47.877775",
     "exception": true,
     "start_time": "2024-12-13T14:13:47.698204",
     "status": "failed"
    },
    "slideshow": {
     "slide_type": ""
    },
    "tags": []
   },
   "outputs": [
    {
     "ename": "ValueError",
     "evalue": "negative dimensions are not allowed",
     "output_type": "error",
     "traceback": [
      "\u001b[0;31m---------------------------------------------------------------------------\u001b[0m",
      "\u001b[0;31mValueError\u001b[0m                                Traceback (most recent call last)",
      "Cell \u001b[0;32mIn[5], line 1\u001b[0m\n\u001b[0;32m----> 1\u001b[0m \u001b[38;5;28mprint\u001b[39m(\u001b[43mnp\u001b[49m\u001b[38;5;241;43m.\u001b[39;49m\u001b[43mrandom\u001b[49m\u001b[38;5;241;43m.\u001b[39;49m\u001b[43mnormal\u001b[49m\u001b[43m(\u001b[49m\u001b[43msize\u001b[49m\u001b[38;5;241;43m=\u001b[39;49m\u001b[43m(\u001b[49m\u001b[43mn\u001b[49m\u001b[43m,\u001b[49m\u001b[43m \u001b[49m\u001b[43m)\u001b[49m\u001b[43m)\u001b[49m\u001b[38;5;241m.\u001b[39mmean(), \u001b[38;5;124mf\u001b[39m\u001b[38;5;124m\"\u001b[39m\u001b[38;5;124mfrom \u001b[39m\u001b[38;5;132;01m{\u001b[39;00mn\u001b[38;5;132;01m}\u001b[39;00m\u001b[38;5;124m random numbers\u001b[39m\u001b[38;5;124m\"\u001b[39m)\n",
      "File \u001b[0;32mnumpy/random/mtrand.pyx:1557\u001b[0m, in \u001b[0;36mnumpy.random.mtrand.RandomState.normal\u001b[0;34m()\u001b[0m\n",
      "File \u001b[0;32m_common.pyx:636\u001b[0m, in \u001b[0;36mnumpy.random._common.cont\u001b[0;34m()\u001b[0m\n",
      "\u001b[0;31mValueError\u001b[0m: negative dimensions are not allowed"
     ]
    }
   ],
   "source": [
    "print(np.random.normal(size=(n, )).mean(), f\"from {n} random numbers\")"
   ]
  }
 ],
 "metadata": {
  "kernelspec": {
   "display_name": "Python 3 (ipykernel)",
   "language": "python",
   "name": "python3"
  },
  "language_info": {
   "codemirror_mode": {
    "name": "ipython",
    "version": 3
   },
   "file_extension": ".py",
   "mimetype": "text/x-python",
   "name": "python",
   "nbconvert_exporter": "python",
   "pygments_lexer": "ipython3",
   "version": "3.11.10"
  },
  "papermill": {
   "default_parameters": {},
   "duration": 1.359211,
   "end_time": "2024-12-13T14:13:48.098313",
   "environment_variables": {},
   "exception": true,
   "input_path": "example_calculation.ipynb",
   "output_path": "example_calculation.executed_with_error.ipynb",
   "parameters": {
    "n": -15,
    "random_seed": 456
   },
   "start_time": "2024-12-13T14:13:46.739102",
   "version": "2.6.0"
  }
 },
 "nbformat": 4,
 "nbformat_minor": 5
}