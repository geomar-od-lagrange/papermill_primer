{
 "cells": [
  {
   "cell_type": "code",
   "execution_count": 1,
   "id": "be9df9cd-1932-4fe5-b4f0-bc2cbd7061d5",
   "metadata": {
    "editable": true,
    "execution": {
     "iopub.execute_input": "2024-12-13T14:14:40.950147Z",
     "iopub.status.busy": "2024-12-13T14:14:40.948898Z",
     "iopub.status.idle": "2024-12-13T14:14:41.015196Z",
     "shell.execute_reply": "2024-12-13T14:14:41.014225Z"
    },
    "papermill": {
     "duration": 0.075527,
     "end_time": "2024-12-13T14:14:41.017917",
     "exception": false,
     "start_time": "2024-12-13T14:14:40.942390",
     "status": "completed"
    },
    "slideshow": {
     "slide_type": ""
    },
    "tags": []
   },
   "outputs": [],
   "source": [
    "import numpy as np"
   ]
  },
  {
   "cell_type": "code",
   "execution_count": 2,
   "id": "9b0fbca9-55aa-49a4-8c96-8fc22a8205bb",
   "metadata": {
    "editable": true,
    "execution": {
     "iopub.execute_input": "2024-12-13T14:14:41.027867Z",
     "iopub.status.busy": "2024-12-13T14:14:41.027355Z",
     "iopub.status.idle": "2024-12-13T14:14:41.031568Z",
     "shell.execute_reply": "2024-12-13T14:14:41.030672Z"
    },
    "papermill": {
     "duration": 0.009754,
     "end_time": "2024-12-13T14:14:41.032443",
     "exception": false,
     "start_time": "2024-12-13T14:14:41.022689",
     "status": "completed"
    },
    "slideshow": {
     "slide_type": ""
    },
    "tags": [
     "parameters"
    ]
   },
   "outputs": [],
   "source": [
    "# parameters\n",
    "n = 5  # number of random numbers to be drawn\n",
    "random_seed = 123"
   ]
  },
  {
   "cell_type": "code",
   "execution_count": 3,
   "id": "0465dea5",
   "metadata": {
    "execution": {
     "iopub.execute_input": "2024-12-13T14:14:41.035962Z",
     "iopub.status.busy": "2024-12-13T14:14:41.035396Z",
     "iopub.status.idle": "2024-12-13T14:14:41.039273Z",
     "shell.execute_reply": "2024-12-13T14:14:41.038409Z"
    },
    "papermill": {
     "duration": 0.006396,
     "end_time": "2024-12-13T14:14:41.040093",
     "exception": false,
     "start_time": "2024-12-13T14:14:41.033697",
     "status": "completed"
    },
    "tags": [
     "injected-parameters"
    ]
   },
   "outputs": [],
   "source": [
    "# Parameters\n",
    "random_seed = 456\n",
    "n = 15\n"
   ]
  },
  {
   "cell_type": "code",
   "execution_count": 4,
   "id": "2eb6c9cf-872a-4475-a9c0-212a826410f3",
   "metadata": {
    "editable": true,
    "execution": {
     "iopub.execute_input": "2024-12-13T14:14:41.043536Z",
     "iopub.status.busy": "2024-12-13T14:14:41.042972Z",
     "iopub.status.idle": "2024-12-13T14:14:41.046948Z",
     "shell.execute_reply": "2024-12-13T14:14:41.046056Z"
    },
    "papermill": {
     "duration": 0.006519,
     "end_time": "2024-12-13T14:14:41.047803",
     "exception": false,
     "start_time": "2024-12-13T14:14:41.041284",
     "status": "completed"
    },
    "slideshow": {
     "slide_type": ""
    },
    "tags": []
   },
   "outputs": [],
   "source": [
    "np.random.seed(random_seed)"
   ]
  },
  {
   "cell_type": "code",
   "execution_count": 5,
   "id": "25ebe9ad-29e8-4fe4-af75-cfaf91d4b101",
   "metadata": {
    "editable": true,
    "execution": {
     "iopub.execute_input": "2024-12-13T14:14:41.051304Z",
     "iopub.status.busy": "2024-12-13T14:14:41.050767Z",
     "iopub.status.idle": "2024-12-13T14:14:41.056182Z",
     "shell.execute_reply": "2024-12-13T14:14:41.055424Z"
    },
    "papermill": {
     "duration": 0.007968,
     "end_time": "2024-12-13T14:14:41.057028",
     "exception": false,
     "start_time": "2024-12-13T14:14:41.049060",
     "status": "completed"
    },
    "slideshow": {
     "slide_type": ""
    },
    "tags": []
   },
   "outputs": [
    {
     "name": "stdout",
     "output_type": "stream",
     "text": [
      "-0.08359278039365682 from 15 random numbers\n"
     ]
    }
   ],
   "source": [
    "print(np.random.normal(size=(n, )).mean(), f\"from {n} random numbers\")"
   ]
  }
 ],
 "metadata": {
  "kernelspec": {
   "display_name": "Python 3 (ipykernel)",
   "language": "python",
   "name": "python3"
  },
  "language_info": {
   "codemirror_mode": {
    "name": "ipython",
    "version": 3
   },
   "file_extension": ".py",
   "mimetype": "text/x-python",
   "name": "python",
   "nbconvert_exporter": "python",
   "pygments_lexer": "ipython3",
   "version": "3.11.10"
  },
  "papermill": {
   "default_parameters": {},
   "duration": 1.183476,
   "end_time": "2024-12-13T14:14:41.275738",
   "environment_variables": {},
   "exception": null,
   "input_path": "example_calculation.ipynb",
   "output_path": "example_calculation.executed_without_error.ipynb",
   "parameters": {
    "n": 15,
    "random_seed": 456
   },
   "start_time": "2024-12-13T14:14:40.092262",
   "version": "2.6.0"
  }
 },
 "nbformat": 4,
 "nbformat_minor": 5
}